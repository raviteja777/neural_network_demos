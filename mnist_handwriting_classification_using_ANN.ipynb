{
  "nbformat": 4,
  "nbformat_minor": 0,
  "metadata": {
    "colab": {
      "name": "mnist_handwriting_classification_using_ANN.ipynb",
      "provenance": [],
      "private_outputs": true,
      "collapsed_sections": [],
      "authorship_tag": "ABX9TyMUgTA8lJhhL37Jh3JN8pJa",
      "include_colab_link": true
    },
    "kernelspec": {
      "name": "python3",
      "display_name": "Python 3"
    }
  },
  "cells": [
    {
      "cell_type": "markdown",
      "metadata": {
        "id": "view-in-github",
        "colab_type": "text"
      },
      "source": [
        "<a href=\"https://colab.research.google.com/github/raviteja777/neural_network_demos/blob/master/mnist_handwriting_classification_using_ANN.ipynb\" target=\"_parent\"><img src=\"https://colab.research.google.com/assets/colab-badge.svg\" alt=\"Open In Colab\"/></a>"
      ]
    },
    {
      "cell_type": "markdown",
      "metadata": {
        "id": "joiL3pBWqYAM",
        "colab_type": "text"
      },
      "source": [
        "Hand Written digit recognition using MNIST dataset \n",
        "uses ANN to categorize the numbers"
      ]
    },
    {
      "cell_type": "code",
      "metadata": {
        "id": "VZ9G90TwrhVW",
        "colab_type": "code",
        "colab": {}
      },
      "source": [
        "import tensorflow as tf\n",
        "import matplotlib.pyplot as plt\n",
        "import numpy as np\n",
        "import scipy as sc\n",
        "import pandas as pd\n",
        "from keras.layers import Activation , Dense\n",
        "from keras.models import Sequential\n",
        "from keras.utils import to_categorical\n",
        "\n"
      ],
      "execution_count": null,
      "outputs": []
    },
    {
      "cell_type": "code",
      "metadata": {
        "id": "IVk5ASJCsugt",
        "colab_type": "code",
        "colab": {}
      },
      "source": [
        "mnist = tf.keras.datasets.mnist\n",
        "(x_train,y_train),(x_test,y_test)= mnist.load_data()\n"
      ],
      "execution_count": null,
      "outputs": []
    },
    {
      "cell_type": "code",
      "metadata": {
        "id": "BNKR-IfTtBk4",
        "colab_type": "code",
        "colab": {}
      },
      "source": [
        "x_train = np.reshape(x_train,(x_train.shape[0],x_train.shape[1]*x_train.shape[2]))"
      ],
      "execution_count": null,
      "outputs": []
    },
    {
      "cell_type": "code",
      "metadata": {
        "id": "Z1wUnL3OxEXP",
        "colab_type": "code",
        "colab": {}
      },
      "source": [
        "x_test = np.reshape(x_test,(x_test.shape[0],x_test.shape[1]*x_test.shape[2]))"
      ],
      "execution_count": null,
      "outputs": []
    },
    {
      "cell_type": "code",
      "metadata": {
        "id": "yxSp06TVBZr3",
        "colab_type": "code",
        "colab": {}
      },
      "source": [
        "x_train = x_train/255\n",
        "x_test = x_test/255"
      ],
      "execution_count": null,
      "outputs": []
    },
    {
      "cell_type": "code",
      "metadata": {
        "id": "VU3sdYt-HEa9",
        "colab_type": "code",
        "colab": {}
      },
      "source": [
        "y_train = to_categorical(y_train,10)\n",
        "y_test = to_categorical(y_test,10)"
      ],
      "execution_count": null,
      "outputs": []
    },
    {
      "cell_type": "code",
      "metadata": {
        "id": "Rd523LcRBg3J",
        "colab_type": "code",
        "colab": {}
      },
      "source": [
        "#model building\n",
        "model = Sequential()\n",
        "model.add(Dense(300,input_shape=(784,),activation='tanh'))\n",
        "model.add(Dense(150,activation='tanh'))\n",
        "model.add(Dense(75,activation='tanh'))\n",
        "model.add(Dense(10,activation='softmax'))\n",
        "model.compile(optimizer='adam',loss='categorical_crossentropy',metrics=['accuracy'])\n",
        "model.summary()"
      ],
      "execution_count": null,
      "outputs": []
    },
    {
      "cell_type": "code",
      "metadata": {
        "id": "BGh8s5eCGObL",
        "colab_type": "code",
        "colab": {}
      },
      "source": [
        "# fit the model for x_train and y_train\n",
        "model.fit(x=x_train,y=y_train,batch_size=32,epochs=50)"
      ],
      "execution_count": null,
      "outputs": []
    },
    {
      "cell_type": "code",
      "metadata": {
        "id": "oRsvsg7SMZaX",
        "colab_type": "code",
        "colab": {}
      },
      "source": [
        "# Evaluate the model performance\n",
        "test_loss, test_acc = model.evaluate(x=x_test, y=y_test)\n",
        "\n",
        "# Print out the model accuracy \n",
        "print('\\nTest accuracy:', test_acc)\n",
        "predictions = model.predict_classes([x_test]) # Make prediction\n",
        "\n"
      ],
      "execution_count": null,
      "outputs": []
    },
    {
      "cell_type": "code",
      "metadata": {
        "id": "C0DoCIZmPVTw",
        "colab_type": "code",
        "colab": {}
      },
      "source": [
        "print(predictions[0:5]) # Print out the number\n",
        "print(y_test[0:5])"
      ],
      "execution_count": null,
      "outputs": []
    }
  ]
}