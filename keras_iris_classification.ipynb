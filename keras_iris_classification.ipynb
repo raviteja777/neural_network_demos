{
  "nbformat": 4,
  "nbformat_minor": 0,
  "metadata": {
    "colab": {
      "name": "keras_iris_classification.ipynb",
      "provenance": [],
      "collapsed_sections": [],
      "include_colab_link": true
    },
    "kernelspec": {
      "name": "python3",
      "display_name": "Python 3"
    }
  },
  "cells": [
    {
      "cell_type": "markdown",
      "metadata": {
        "id": "view-in-github",
        "colab_type": "text"
      },
      "source": [
        "<a href=\"https://colab.research.google.com/github/raviteja777/neural_network_demos/blob/master/keras_iris_classification.ipynb\" target=\"_parent\"><img src=\"https://colab.research.google.com/assets/colab-badge.svg\" alt=\"Open In Colab\"/></a>"
      ]
    },
    {
      "cell_type": "markdown",
      "metadata": {
        "id": "4juxICFZ1RNc",
        "colab_type": "text"
      },
      "source": [
        "## <center> IRIS data classification using Keras NN </center>"
      ]
    },
    {
      "cell_type": "code",
      "metadata": {
        "id": "OHugWaLyLGEc",
        "colab_type": "code",
        "colab": {
          "base_uri": "https://localhost:8080/",
          "height": 34
        },
        "outputId": "3b48116d-46f7-451e-fb00-977addd9057d"
      },
      "source": [
        "from keras.models import Sequential\n",
        "\n",
        "from keras.layers import Dense\n",
        "from keras.utils import to_categorical\n",
        "\n",
        "from sklearn.datasets import load_iris\n",
        "from sklearn.model_selection import train_test_split\n",
        "\n",
        "import pandas as pd\n",
        "import numpy as np"
      ],
      "execution_count": null,
      "outputs": [
        {
          "output_type": "stream",
          "text": [
            "Using TensorFlow backend.\n"
          ],
          "name": "stderr"
        }
      ]
    },
    {
      "cell_type": "markdown",
      "metadata": {
        "id": "WY23vcF-1M8s",
        "colab_type": "text"
      },
      "source": [
        ""
      ]
    },
    {
      "cell_type": "code",
      "metadata": {
        "id": "d7KWPmD_OclC",
        "colab_type": "code",
        "colab": {}
      },
      "source": [
        "#init dataset - load iris used from sklearn\n",
        "iris = load_iris()"
      ],
      "execution_count": null,
      "outputs": []
    },
    {
      "cell_type": "code",
      "metadata": {
        "id": "lU1VaoOES_Mf",
        "colab_type": "code",
        "colab": {
          "base_uri": "https://localhost:8080/",
          "height": 1088
        },
        "outputId": "5373f520-f273-41e9-a2b8-15667f3678a5"
      },
      "source": [
        "# get the data description\n",
        "print(iris['DESCR'],sep=\"\\n\")"
      ],
      "execution_count": null,
      "outputs": [
        {
          "output_type": "stream",
          "text": [
            ".. _iris_dataset:\n",
            "\n",
            "Iris plants dataset\n",
            "--------------------\n",
            "\n",
            "**Data Set Characteristics:**\n",
            "\n",
            "    :Number of Instances: 150 (50 in each of three classes)\n",
            "    :Number of Attributes: 4 numeric, predictive attributes and the class\n",
            "    :Attribute Information:\n",
            "        - sepal length in cm\n",
            "        - sepal width in cm\n",
            "        - petal length in cm\n",
            "        - petal width in cm\n",
            "        - class:\n",
            "                - Iris-Setosa\n",
            "                - Iris-Versicolour\n",
            "                - Iris-Virginica\n",
            "                \n",
            "    :Summary Statistics:\n",
            "\n",
            "    ============== ==== ==== ======= ===== ====================\n",
            "                    Min  Max   Mean    SD   Class Correlation\n",
            "    ============== ==== ==== ======= ===== ====================\n",
            "    sepal length:   4.3  7.9   5.84   0.83    0.7826\n",
            "    sepal width:    2.0  4.4   3.05   0.43   -0.4194\n",
            "    petal length:   1.0  6.9   3.76   1.76    0.9490  (high!)\n",
            "    petal width:    0.1  2.5   1.20   0.76    0.9565  (high!)\n",
            "    ============== ==== ==== ======= ===== ====================\n",
            "\n",
            "    :Missing Attribute Values: None\n",
            "    :Class Distribution: 33.3% for each of 3 classes.\n",
            "    :Creator: R.A. Fisher\n",
            "    :Donor: Michael Marshall (MARSHALL%PLU@io.arc.nasa.gov)\n",
            "    :Date: July, 1988\n",
            "\n",
            "The famous Iris database, first used by Sir R.A. Fisher. The dataset is taken\n",
            "from Fisher's paper. Note that it's the same as in R, but not as in the UCI\n",
            "Machine Learning Repository, which has two wrong data points.\n",
            "\n",
            "This is perhaps the best known database to be found in the\n",
            "pattern recognition literature.  Fisher's paper is a classic in the field and\n",
            "is referenced frequently to this day.  (See Duda & Hart, for example.)  The\n",
            "data set contains 3 classes of 50 instances each, where each class refers to a\n",
            "type of iris plant.  One class is linearly separable from the other 2; the\n",
            "latter are NOT linearly separable from each other.\n",
            "\n",
            ".. topic:: References\n",
            "\n",
            "   - Fisher, R.A. \"The use of multiple measurements in taxonomic problems\"\n",
            "     Annual Eugenics, 7, Part II, 179-188 (1936); also in \"Contributions to\n",
            "     Mathematical Statistics\" (John Wiley, NY, 1950).\n",
            "   - Duda, R.O., & Hart, P.E. (1973) Pattern Classification and Scene Analysis.\n",
            "     (Q327.D83) John Wiley & Sons.  ISBN 0-471-22361-1.  See page 218.\n",
            "   - Dasarathy, B.V. (1980) \"Nosing Around the Neighborhood: A New System\n",
            "     Structure and Classification Rule for Recognition in Partially Exposed\n",
            "     Environments\".  IEEE Transactions on Pattern Analysis and Machine\n",
            "     Intelligence, Vol. PAMI-2, No. 1, 67-71.\n",
            "   - Gates, G.W. (1972) \"The Reduced Nearest Neighbor Rule\".  IEEE Transactions\n",
            "     on Information Theory, May 1972, 431-433.\n",
            "   - See also: 1988 MLC Proceedings, 54-64.  Cheeseman et al\"s AUTOCLASS II\n",
            "     conceptual clustering system finds 3 classes in the data.\n",
            "   - Many, many more ...\n"
          ],
          "name": "stdout"
        }
      ]
    },
    {
      "cell_type": "code",
      "metadata": {
        "id": "lEzUwLoRPOFH",
        "colab_type": "code",
        "colab": {}
      },
      "source": [
        "# Divide into training and test sets\n",
        "\n",
        "X_train,X_test,y_train,y_test = train_test_split(iris['data'],iris['target'],test_size=0.3,random_state=1234)"
      ],
      "execution_count": null,
      "outputs": []
    },
    {
      "cell_type": "code",
      "metadata": {
        "id": "J76kmmZMQGYA",
        "colab_type": "code",
        "colab": {
          "base_uri": "https://localhost:8080/",
          "height": 153
        },
        "outputId": "d75ac886-f51f-45bf-d702-c1f3782f2fa1"
      },
      "source": [
        "print(\"train :\\n\",X_train[:5])\n",
        "print(\"target :\\n\",y_train[:5])"
      ],
      "execution_count": null,
      "outputs": [
        {
          "output_type": "stream",
          "text": [
            "train :\n",
            " [[4.9 3.1 1.5 0.1]\n",
            " [5.8 2.8 5.1 2.4]\n",
            " [6.7 3.  5.2 2.3]\n",
            " [7.7 3.  6.1 2.3]\n",
            " [6.7 3.1 5.6 2.4]]\n",
            "target :\n",
            " [0 2 2 2 2]\n"
          ],
          "name": "stdout"
        }
      ]
    },
    {
      "cell_type": "code",
      "metadata": {
        "id": "TKCIfcSLSZDI",
        "colab_type": "code",
        "colab": {
          "base_uri": "https://localhost:8080/",
          "height": 51
        },
        "outputId": "9d69480c-5774-4bb0-fc38-468d20cbf721"
      },
      "source": [
        "print(\"X_train shape {}\".format(X_train.shape))\n",
        "print(\"y_train shape {}\".format(y_train.shape))\n",
        "      "
      ],
      "execution_count": null,
      "outputs": [
        {
          "output_type": "stream",
          "text": [
            "X_train shape (105, 4)\n",
            "y_train shape (105,)\n"
          ],
          "name": "stdout"
        }
      ]
    },
    {
      "cell_type": "code",
      "metadata": {
        "id": "cYTitsr-LYjI",
        "colab_type": "code",
        "colab": {
          "base_uri": "https://localhost:8080/",
          "height": 88
        },
        "outputId": "10c5b920-0c96-4aeb-91bb-a9255f44437f"
      },
      "source": [
        "# init model\n",
        "\n",
        "model = Sequential()"
      ],
      "execution_count": null,
      "outputs": [
        {
          "output_type": "stream",
          "text": [
            "WARNING: Logging before flag parsing goes to stderr.\n",
            "W0624 07:06:51.272335 140447579133824 deprecation_wrapper.py:119] From /usr/local/lib/python3.6/dist-packages/keras/backend/tensorflow_backend.py:74: The name tf.get_default_graph is deprecated. Please use tf.compat.v1.get_default_graph instead.\n",
            "\n"
          ],
          "name": "stderr"
        }
      ]
    },
    {
      "cell_type": "code",
      "metadata": {
        "id": "jGkq07sBLshj",
        "colab_type": "code",
        "colab": {
          "base_uri": "https://localhost:8080/",
          "height": 105
        },
        "outputId": "584676e9-1ef1-4f27-a29c-8684920f1a39"
      },
      "source": [
        "# provide a sequential model\n",
        "#input = 5 , hidden = 0 , output=3\n",
        "\n",
        "model.add(Dense(activation='relu',input_dim=4,units=5))\n",
        "model.add(Dense(activation='softmax',units=3))"
      ],
      "execution_count": null,
      "outputs": [
        {
          "output_type": "stream",
          "text": [
            "W0624 07:06:51.316998 140447579133824 deprecation_wrapper.py:119] From /usr/local/lib/python3.6/dist-packages/keras/backend/tensorflow_backend.py:517: The name tf.placeholder is deprecated. Please use tf.compat.v1.placeholder instead.\n",
            "\n",
            "W0624 07:06:51.325201 140447579133824 deprecation_wrapper.py:119] From /usr/local/lib/python3.6/dist-packages/keras/backend/tensorflow_backend.py:4138: The name tf.random_uniform is deprecated. Please use tf.random.uniform instead.\n",
            "\n"
          ],
          "name": "stderr"
        }
      ]
    },
    {
      "cell_type": "code",
      "metadata": {
        "id": "11g48coEMCLj",
        "colab_type": "code",
        "colab": {
          "base_uri": "https://localhost:8080/",
          "height": 105
        },
        "outputId": "1f1033e7-d870-45e1-ab0a-601ca962ef29"
      },
      "source": [
        "model.compile(loss='categorical_crossentropy',\n",
        "              optimizer='sgd',\n",
        "              metrics=['accuracy'])"
      ],
      "execution_count": null,
      "outputs": [
        {
          "output_type": "stream",
          "text": [
            "W0624 07:06:51.358485 140447579133824 deprecation_wrapper.py:119] From /usr/local/lib/python3.6/dist-packages/keras/optimizers.py:790: The name tf.train.Optimizer is deprecated. Please use tf.compat.v1.train.Optimizer instead.\n",
            "\n",
            "W0624 07:06:51.384536 140447579133824 deprecation_wrapper.py:119] From /usr/local/lib/python3.6/dist-packages/keras/backend/tensorflow_backend.py:3295: The name tf.log is deprecated. Please use tf.math.log instead.\n",
            "\n"
          ],
          "name": "stderr"
        }
      ]
    },
    {
      "cell_type": "code",
      "metadata": {
        "id": "XYEOdVUoY-3C",
        "colab_type": "code",
        "colab": {}
      },
      "source": [
        "# convert target variable  to categorical for eg:  class 1 convert --> 0 0 1 , class 2 -- 0 1 0 , class 3 - 1 0 0 \n",
        "\n",
        "y_train_cat = to_categorical(y_train, num_classes=None)\n",
        "y_test_cat = to_categorical(y_test, num_classes=None)"
      ],
      "execution_count": null,
      "outputs": []
    },
    {
      "cell_type": "code",
      "metadata": {
        "id": "nmFujCABahzp",
        "colab_type": "code",
        "colab": {
          "base_uri": "https://localhost:8080/",
          "height": 187
        },
        "outputId": "1d4ad15e-5a50-454a-bf51-442c8e9efd70"
      },
      "source": [
        "print(X_train[:5],y_train_cat[:5],sep=\"\\n\")"
      ],
      "execution_count": null,
      "outputs": [
        {
          "output_type": "stream",
          "text": [
            "[[4.9 3.1 1.5 0.1]\n",
            " [5.8 2.8 5.1 2.4]\n",
            " [6.7 3.  5.2 2.3]\n",
            " [7.7 3.  6.1 2.3]\n",
            " [6.7 3.1 5.6 2.4]]\n",
            "[[1. 0. 0.]\n",
            " [0. 0. 1.]\n",
            " [0. 0. 1.]\n",
            " [0. 0. 1.]\n",
            " [0. 0. 1.]]\n"
          ],
          "name": "stdout"
        }
      ]
    },
    {
      "cell_type": "code",
      "metadata": {
        "id": "JwKrpHyvROy_",
        "colab_type": "code",
        "colab": {
          "base_uri": "https://localhost:8080/",
          "height": 819
        },
        "outputId": "d9ab506b-e178-41ec-e6cc-5ab61aa4a2e7"
      },
      "source": [
        "# fit the model with training data\n",
        "model.fit(X_train,y_train_cat,epochs=20,batch_size=10)"
      ],
      "execution_count": null,
      "outputs": [
        {
          "output_type": "stream",
          "text": [
            "W0624 07:06:51.520101 140447579133824 deprecation.py:323] From /usr/local/lib/python3.6/dist-packages/tensorflow/python/ops/math_grad.py:1250: add_dispatch_support.<locals>.wrapper (from tensorflow.python.ops.array_ops) is deprecated and will be removed in a future version.\n",
            "Instructions for updating:\n",
            "Use tf.where in 2.0, which has the same broadcast rule as np.where\n",
            "W0624 07:06:51.573041 140447579133824 deprecation_wrapper.py:119] From /usr/local/lib/python3.6/dist-packages/keras/backend/tensorflow_backend.py:986: The name tf.assign_add is deprecated. Please use tf.compat.v1.assign_add instead.\n",
            "\n"
          ],
          "name": "stderr"
        },
        {
          "output_type": "stream",
          "text": [
            "Epoch 1/20\n",
            "105/105 [==============================] - 0s 1ms/step - loss: 1.2635 - acc: 0.2762\n",
            "Epoch 2/20\n",
            "105/105 [==============================] - 0s 119us/step - loss: 1.0364 - acc: 0.2571\n",
            "Epoch 3/20\n",
            "105/105 [==============================] - 0s 119us/step - loss: 0.9383 - acc: 0.3714\n",
            "Epoch 4/20\n",
            "105/105 [==============================] - 0s 120us/step - loss: 0.8505 - acc: 0.5905\n",
            "Epoch 5/20\n",
            "105/105 [==============================] - 0s 132us/step - loss: 0.7864 - acc: 0.6286\n",
            "Epoch 6/20\n",
            "105/105 [==============================] - 0s 138us/step - loss: 0.7441 - acc: 0.6000\n",
            "Epoch 7/20\n",
            "105/105 [==============================] - 0s 120us/step - loss: 0.6958 - acc: 0.6667\n",
            "Epoch 8/20\n",
            "105/105 [==============================] - 0s 128us/step - loss: 0.6641 - acc: 0.6381\n",
            "Epoch 9/20\n",
            "105/105 [==============================] - 0s 133us/step - loss: 0.6357 - acc: 0.6476\n",
            "Epoch 10/20\n",
            "105/105 [==============================] - 0s 140us/step - loss: 0.6153 - acc: 0.6476\n",
            "Epoch 11/20\n",
            "105/105 [==============================] - 0s 147us/step - loss: 0.5980 - acc: 0.6571\n",
            "Epoch 12/20\n",
            "105/105 [==============================] - 0s 129us/step - loss: 0.5822 - acc: 0.7143\n",
            "Epoch 13/20\n",
            "105/105 [==============================] - 0s 131us/step - loss: 0.5661 - acc: 0.6762\n",
            "Epoch 14/20\n",
            "105/105 [==============================] - 0s 130us/step - loss: 0.5549 - acc: 0.6857\n",
            "Epoch 15/20\n",
            "105/105 [==============================] - 0s 134us/step - loss: 0.5434 - acc: 0.7048\n",
            "Epoch 16/20\n",
            "105/105 [==============================] - 0s 127us/step - loss: 0.5299 - acc: 0.7048\n",
            "Epoch 17/20\n",
            "105/105 [==============================] - 0s 127us/step - loss: 0.5233 - acc: 0.6952\n",
            "Epoch 18/20\n",
            "105/105 [==============================] - 0s 132us/step - loss: 0.5190 - acc: 0.6857\n",
            "Epoch 19/20\n",
            "105/105 [==============================] - 0s 134us/step - loss: 0.5041 - acc: 0.6762\n",
            "Epoch 20/20\n",
            "105/105 [==============================] - 0s 153us/step - loss: 0.4953 - acc: 0.7714\n"
          ],
          "name": "stdout"
        },
        {
          "output_type": "execute_result",
          "data": {
            "text/plain": [
              "<keras.callbacks.History at 0x7fbc5e339630>"
            ]
          },
          "metadata": {
            "tags": []
          },
          "execution_count": 12
        }
      ]
    },
    {
      "cell_type": "code",
      "metadata": {
        "id": "A4S4r7W9U8oV",
        "colab_type": "code",
        "colab": {
          "base_uri": "https://localhost:8080/",
          "height": 51
        },
        "outputId": "e11c30ef-5e5c-4a2b-c356-994b25b211b3"
      },
      "source": [
        "# get the performance metrics\n",
        "\n",
        "loss_and_metrics = model.evaluate(X_test, y_test_cat, batch_size=10)\n",
        "\n",
        "loss_and_metrics"
      ],
      "execution_count": null,
      "outputs": [
        {
          "output_type": "stream",
          "text": [
            "45/45 [==============================] - 0s 628us/step\n"
          ],
          "name": "stdout"
        },
        {
          "output_type": "execute_result",
          "data": {
            "text/plain": [
              "[0.5095561775896285, 0.6444444590144687]"
            ]
          },
          "metadata": {
            "tags": []
          },
          "execution_count": 13
        }
      ]
    },
    {
      "cell_type": "code",
      "metadata": {
        "id": "-RAEbpJZVxI_",
        "colab_type": "code",
        "colab": {}
      },
      "source": [
        "classes = model.predict(X_test, batch_size=10)"
      ],
      "execution_count": null,
      "outputs": []
    },
    {
      "cell_type": "code",
      "metadata": {
        "id": "XL78vifRWR2z",
        "colab_type": "code",
        "colab": {
          "base_uri": "https://localhost:8080/",
          "height": 782
        },
        "outputId": "841f4785-d185-414b-e74b-82812c102e0e"
      },
      "source": [
        "classes"
      ],
      "execution_count": null,
      "outputs": [
        {
          "output_type": "execute_result",
          "data": {
            "text/plain": [
              "array([[0.0420947 , 0.44071695, 0.5171883 ],\n",
              "       [0.03805044, 0.4496712 , 0.5122784 ],\n",
              "       [0.02235049, 0.42912284, 0.54852664],\n",
              "       [0.90265876, 0.02965333, 0.0676879 ],\n",
              "       [0.06709595, 0.40657347, 0.5263306 ],\n",
              "       [0.8513192 , 0.05153176, 0.09714909],\n",
              "       [0.9182258 , 0.02511836, 0.05665584],\n",
              "       [0.92882264, 0.02167211, 0.04950528],\n",
              "       [0.05605891, 0.43500727, 0.50893384],\n",
              "       [0.00898191, 0.46319458, 0.5278235 ],\n",
              "       [0.07180368, 0.42916816, 0.4990282 ],\n",
              "       [0.8953868 , 0.03395305, 0.0706601 ],\n",
              "       [0.0133428 , 0.39328763, 0.59336954],\n",
              "       [0.05745999, 0.40333965, 0.5392004 ],\n",
              "       [0.88809794, 0.03078246, 0.08111964],\n",
              "       [0.12418113, 0.40085223, 0.47496665],\n",
              "       [0.02261183, 0.32574037, 0.6516478 ],\n",
              "       [0.8420297 , 0.05609692, 0.10187343],\n",
              "       [0.01614817, 0.45863146, 0.5252204 ],\n",
              "       [0.05135938, 0.443     , 0.5056407 ],\n",
              "       [0.05532736, 0.4362753 , 0.50839734],\n",
              "       [0.03838446, 0.439388  , 0.5222275 ],\n",
              "       [0.05101399, 0.41039127, 0.53859466],\n",
              "       [0.03485985, 0.485396  , 0.4797441 ],\n",
              "       [0.02100712, 0.32903093, 0.64996195],\n",
              "       [0.9341624 , 0.01923133, 0.04660625],\n",
              "       [0.03340522, 0.4079274 , 0.5586674 ],\n",
              "       [0.05508456, 0.4541205 , 0.49079493],\n",
              "       [0.01835063, 0.4014008 , 0.5802486 ],\n",
              "       [0.8788684 , 0.04003609, 0.08109552],\n",
              "       [0.19387603, 0.33366892, 0.47245508],\n",
              "       [0.03737253, 0.39814982, 0.5644776 ],\n",
              "       [0.934693  , 0.01843881, 0.04686823],\n",
              "       [0.02810317, 0.458918  , 0.5129788 ],\n",
              "       [0.03221115, 0.42056406, 0.5472248 ],\n",
              "       [0.81068575, 0.06789909, 0.12141515],\n",
              "       [0.84267545, 0.05587106, 0.10145356],\n",
              "       [0.8864153 , 0.0372896 , 0.07629512],\n",
              "       [0.95834154, 0.01119427, 0.03046423],\n",
              "       [0.1002422 , 0.4279067 , 0.47185108],\n",
              "       [0.94730455, 0.01499132, 0.03770412],\n",
              "       [0.03464385, 0.45629284, 0.5090633 ],\n",
              "       [0.9534108 , 0.01299858, 0.03359059],\n",
              "       [0.03446043, 0.33455208, 0.6309875 ],\n",
              "       [0.0169091 , 0.44496617, 0.53812474]], dtype=float32)"
            ]
          },
          "metadata": {
            "tags": []
          },
          "execution_count": 15
        }
      ]
    },
    {
      "cell_type": "code",
      "metadata": {
        "id": "P3NVKDO5PMWh",
        "colab_type": "code",
        "colab": {}
      },
      "source": [
        "# predict categories\n",
        "\n",
        "pred_cat = [np.where(item==np.max(item))[0][0] for item in classes ]"
      ],
      "execution_count": null,
      "outputs": []
    },
    {
      "cell_type": "code",
      "metadata": {
        "id": "PnX2cpRfSVz_",
        "colab_type": "code",
        "colab": {
          "base_uri": "https://localhost:8080/",
          "height": 782
        },
        "outputId": "47936fec-17dd-4e84-8e88-c8bac6b14171"
      },
      "source": [
        "disp = zip(y_test,pred_cat)\n",
        "print(*tuple(disp),sep=\"\\n\")"
      ],
      "execution_count": null,
      "outputs": [
        {
          "output_type": "stream",
          "text": [
            "(1, 2)\n",
            "(1, 2)\n",
            "(2, 2)\n",
            "(0, 0)\n",
            "(1, 2)\n",
            "(0, 0)\n",
            "(0, 0)\n",
            "(0, 0)\n",
            "(1, 2)\n",
            "(2, 2)\n",
            "(1, 2)\n",
            "(0, 0)\n",
            "(2, 2)\n",
            "(1, 2)\n",
            "(0, 0)\n",
            "(1, 2)\n",
            "(2, 2)\n",
            "(0, 0)\n",
            "(2, 2)\n",
            "(1, 2)\n",
            "(1, 2)\n",
            "(1, 2)\n",
            "(1, 2)\n",
            "(1, 1)\n",
            "(2, 2)\n",
            "(0, 0)\n",
            "(2, 2)\n",
            "(1, 2)\n",
            "(2, 2)\n",
            "(0, 0)\n",
            "(1, 2)\n",
            "(2, 2)\n",
            "(0, 0)\n",
            "(2, 2)\n",
            "(1, 2)\n",
            "(0, 0)\n",
            "(0, 0)\n",
            "(0, 0)\n",
            "(0, 0)\n",
            "(1, 2)\n",
            "(0, 0)\n",
            "(1, 2)\n",
            "(0, 0)\n",
            "(2, 2)\n",
            "(2, 2)\n"
          ],
          "name": "stdout"
        }
      ]
    }
  ]
}