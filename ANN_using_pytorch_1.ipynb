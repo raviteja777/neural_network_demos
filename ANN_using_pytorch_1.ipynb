{
  "nbformat": 4,
  "nbformat_minor": 0,
  "metadata": {
    "colab": {
      "name": "ANN_using_pytorch_1.ipynb",
      "provenance": [],
      "private_outputs": true,
      "authorship_tag": "ABX9TyOG2uVDBSifnFR/UN553npz",
      "include_colab_link": true
    },
    "kernelspec": {
      "name": "python3",
      "display_name": "Python 3"
    }
  },
  "cells": [
    {
      "cell_type": "markdown",
      "metadata": {
        "id": "view-in-github",
        "colab_type": "text"
      },
      "source": [
        "<a href=\"https://colab.research.google.com/github/raviteja777/neural_network_demos/blob/master/ANN_using_pytorch_1.ipynb\" target=\"_parent\"><img src=\"https://colab.research.google.com/assets/colab-badge.svg\" alt=\"Open In Colab\"/></a>"
      ]
    },
    {
      "cell_type": "markdown",
      "metadata": {
        "id": "JFCAWLjKf6Wa",
        "colab_type": "text"
      },
      "source": [
        "## Artificial Neural Network \n",
        "### Feed forward network implementation"
      ]
    },
    {
      "cell_type": "markdown",
      "metadata": {
        "id": "R81ErRT5hQVE",
        "colab_type": "text"
      },
      "source": [
        "- Define the neural network that has some learnable parameters (or weights).\n",
        "- Iterate over a dataset of inputs.\n",
        "- Process input through the network.\n",
        "- Compute the loss (how far is the output from being correct).\n",
        "- Propagate gradients back into the network’s parameters.\n",
        "- Update the weights of the network, typically using a simple update as given \n",
        "below\n",
        "\n",
        "$ output = {\\sum_i}w_ix_i + b_i $"
      ]
    },
    {
      "cell_type": "code",
      "metadata": {
        "id": "_Mt6CSi_g3ut",
        "colab_type": "code",
        "colab": {}
      },
      "source": [
        "import torch \n",
        "import torch.nn as nn"
      ],
      "execution_count": null,
      "outputs": []
    },
    {
      "cell_type": "code",
      "metadata": {
        "id": "8tln0pKDivL4",
        "colab_type": "code",
        "colab": {}
      },
      "source": [
        "# Defining input size, hidden layer size, output size and batch size respectively\n",
        "n_in, n_h, n_out, batch_size = 10, 5, 1, 10"
      ],
      "execution_count": null,
      "outputs": []
    },
    {
      "cell_type": "code",
      "metadata": {
        "id": "Q4_gvaCxi0I8",
        "colab_type": "code",
        "colab": {}
      },
      "source": [
        "# Create dummy input and target tensors (data)\n",
        "x = torch.randn(batch_size, n_in)\n",
        "y = torch.tensor([[1.0], [0.0], [0.0], \n",
        "[1.0], [1.0], [1.0], [0.0], [0.0], [1.0], [1.0]])"
      ],
      "execution_count": null,
      "outputs": []
    },
    {
      "cell_type": "code",
      "metadata": {
        "id": "zxBWDvAri6zc",
        "colab_type": "code",
        "colab": {}
      },
      "source": [
        "# create a model\n",
        "### input -hidden(Linear-> relu)-->output(Linear->sigmoid)\n",
        "model = nn.Sequential(\n",
        "    nn.Linear(n_in,n_h),\n",
        "    nn.ReLU(),\n",
        "    nn.Linear(n_h,n_out),\n",
        "    nn.Sigmoid()\n",
        ")"
      ],
      "execution_count": null,
      "outputs": []
    },
    {
      "cell_type": "code",
      "metadata": {
        "id": "jabiRzOTkEJ0",
        "colab_type": "code",
        "colab": {}
      },
      "source": [
        "#construct the loss function\n",
        "criterion = torch.nn.MSELoss()\n",
        "# Construct the optimizer (Stochastic Gradient Descent in this case)\n",
        "optimizer = torch.optim.SGD(model.parameters(), lr = 0.01)"
      ],
      "execution_count": null,
      "outputs": []
    },
    {
      "cell_type": "code",
      "metadata": {
        "id": "4a9AOJ10kH5a",
        "colab_type": "code",
        "colab": {}
      },
      "source": [
        "# Gradient Descent\n",
        "for epoch in range(50):\n",
        "  #forward pass - compute value of y\n",
        "  y_pred = model(x)\n",
        "\n",
        "  # compute , print the loss\n",
        "  loss = criterion(y_pred,y)\n",
        "  print('epoch :',epoch,'loss :',loss.item())\n",
        "\n",
        "  # init to zero gradients\n",
        "  optimizer.zero_grad()\n",
        "\n",
        "  # Perform a backward pass \n",
        "  loss.backward()\n",
        "\n",
        "  #update parameters\n",
        "  optimizer.step()"
      ],
      "execution_count": null,
      "outputs": []
    },
    {
      "cell_type": "code",
      "metadata": {
        "id": "FxCvv3IKqLFV",
        "colab_type": "code",
        "colab": {}
      },
      "source": [
        "## test - perform a prediction\n",
        "\n",
        "x_test = torch.randn(n_in)\n",
        "print(x_test)"
      ],
      "execution_count": null,
      "outputs": []
    },
    {
      "cell_type": "code",
      "metadata": {
        "id": "mih3kdpTqVa8",
        "colab_type": "code",
        "colab": {}
      },
      "source": [
        "model(x_test)"
      ],
      "execution_count": null,
      "outputs": []
    },
    {
      "cell_type": "code",
      "metadata": {
        "id": "btQqaAxiq62z",
        "colab_type": "code",
        "colab": {}
      },
      "source": [
        ""
      ],
      "execution_count": null,
      "outputs": []
    }
  ]
}